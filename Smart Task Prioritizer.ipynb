{
  "cells": [
    {
      "cell_type": "markdown",
      "metadata": {
        "id": "SNZyeO5YSu6k"
      },
      "source": [
        "**Smart Task Prioritizer**"
      ]
    },
    {
      "cell_type": "markdown",
      "metadata": {
        "id": "pQhTVYCITA49"
      },
      "source": [
        "# **Features**\n",
        "\n",
        "Input tasks with deadline & importance score.\n",
        "\n",
        "Script automatically assigns priority levels (High, Medium, Low) using Eisenhower Matrix logic.\n",
        "\n",
        "Optionally, if you add an AI API key, it can summarize tasks into short action items.\n",
        "\n",
        "Saves tasks in a local JSON file (like a mini database).\n",
        "\n",
        "Exports prioritized tasks into a CSV or Markdown file (recruiter-friendly)."
      ]
    },
    {
      "cell_type": "code",
      "execution_count": null,
      "metadata": {
        "colab": {
          "base_uri": "https://localhost:8080/"
        },
        "id": "i9fYLD9WSrxq",
        "outputId": "a3d81815-8de7-43a8-f6ea-83e788d4d8d5"
      },
      "outputs": [
        {
          "metadata": {
            "tags": null
          },
          "name": "stdout",
          "output_type": "stream",
          "text": [
            "\n",
            "=== Smart Task Prioritizer ===\n",
            "1. Add Task\n",
            "2. Show Prioritized Tasks\n",
            "3. Export Tasks to CSV\n",
            "4. Exit\n",
            "✅ Task 'Resume Writing' added!\n",
            "\n",
            "=== Smart Task Prioritizer ===\n",
            "1. Add Task\n",
            "2. Show Prioritized Tasks\n",
            "3. Export Tasks to CSV\n",
            "4. Exit\n",
            "Resume Writing | Deadline: 2025-08-17 | Priority: 🔥 HIGH\n",
            "\n",
            "=== Smart Task Prioritizer ===\n",
            "1. Add Task\n",
            "2. Show Prioritized Tasks\n",
            "3. Export Tasks to CSV\n",
            "4. Exit\n"
          ]
        }
      ],
      "source": [
        "import csv\n",
        "from datetime import datetime\n",
        "\n",
        "# In-memory task storage (no file writes, works in online compilers)\n",
        "tasks = []\n",
        "\n",
        "def add_task(title, deadline, importance):\n",
        "    task = {\n",
        "        \"title\": title,\n",
        "        \"deadline\": deadline,\n",
        "        \"importance\": importance,\n",
        "        \"added_on\": datetime.now().strftime(\"%Y-%m-%d %H:%M\")\n",
        "    }\n",
        "    tasks.append(task)\n",
        "    print(f\"✅ Task '{title}' added!\")\n",
        "\n",
        "def prioritize_tasks():\n",
        "    prioritized = []\n",
        "    today = datetime.now()\n",
        "\n",
        "    for t in tasks:\n",
        "        deadline = datetime.strptime(t[\"deadline\"], \"%Y-%m-%d\")\n",
        "        days_left = (deadline - today).days\n",
        "\n",
        "        if days_left <= 1 or int(t[\"importance\"]) >= 8:\n",
        "            t[\"priority\"] = \"🔥 HIGH\"\n",
        "        elif days_left <= 3 or int(t[\"importance\"]) >= 5:\n",
        "            t[\"priority\"] = \"⚡ MEDIUM\"\n",
        "        else:\n",
        "            t[\"priority\"] = \"🌀 LOW\"\n",
        "        prioritized.append(t)\n",
        "\n",
        "    return sorted(prioritized, key=lambda x: x[\"priority\"])\n",
        "\n",
        "def export_to_csv(filename=\"tasks_export.csv\"):\n",
        "    if not tasks:\n",
        "        print(\"❌ No tasks to export!\")\n",
        "        return\n",
        "    keys = tasks[0].keys()\n",
        "    with open(filename, \"w\", newline=\"\") as f:\n",
        "        writer = csv.DictWriter(f, fieldnames=keys)\n",
        "        writer.writeheader()\n",
        "        writer.writerows(tasks)\n",
        "    print(f\"📂 Tasks exported to {filename}\")\n",
        "\n",
        "def menu():\n",
        "    while True:\n",
        "        print(\"\\n=== Smart Task Prioritizer ===\")\n",
        "        print(\"1. Add Task\")\n",
        "        print(\"2. Show Prioritized Tasks\")\n",
        "        print(\"3. Export Tasks to CSV\")\n",
        "        print(\"4. Exit\")\n",
        "\n",
        "        choice = input(\"Enter choice: \")\n",
        "\n",
        "        if choice == \"1\":\n",
        "            title = input(\"Task Title: \")\n",
        "            deadline = input(\"Deadline (YYYY-MM-DD): \")\n",
        "            importance = input(\"Importance (1-10): \")\n",
        "            add_task(title, deadline, importance)\n",
        "\n",
        "        elif choice == \"2\":\n",
        "            if not tasks:\n",
        "                print(\"❌ No tasks added yet.\")\n",
        "            else:\n",
        "                for t in prioritize_tasks():\n",
        "                    print(f\"{t['title']} | Deadline: {t['deadline']} | Priority: {t['priority']}\")\n",
        "\n",
        "        elif choice == \"3\":\n",
        "            export_to_csv()\n",
        "\n",
        "        elif choice == \"4\":\n",
        "            break\n",
        "\n",
        "        else:\n",
        "            print(\"❌ Invalid choice, try again!\")\n",
        "\n",
        "if __name__ == \"__main__\":\n",
        "    menu()\n"
      ]
    }
  ],
  "metadata": {
    "colab": {
      "provenance": []
    },
    "kernelspec": {
      "display_name": "Python 3",
      "name": "python3"
    },
    "language_info": {
      "name": "python"
    }
  },
  "nbformat": 4,
  "nbformat_minor": 0
}